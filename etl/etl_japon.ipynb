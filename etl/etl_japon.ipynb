{
 "cells": [
  {
   "attachments": {},
   "cell_type": "markdown",
   "metadata": {},
   "source": [
    "# ETL Japon\n",
    "\n",
    "Para este proceso de limpieza se usara la fuente propuesta para el proyecto -> [fuente de datos](https://www.data.jma.go.jp/multi/quake/index.html?lang=es)"
   ]
  },
  {
   "cell_type": "code",
   "execution_count": 5,
   "metadata": {},
   "outputs": [],
   "source": [
    "import pandas as pd\n",
    "import time\n",
    "from selenium import webdriver\n",
    "from bs4 import BeautifulSoup"
   ]
  },
  {
   "attachments": {},
   "cell_type": "markdown",
   "metadata": {},
   "source": [
    "## Acceso a la fuente"
   ]
  },
  {
   "cell_type": "code",
   "execution_count": 6,
   "metadata": {},
   "outputs": [],
   "source": [
    "url = 'https://www.data.jma.go.jp/multi/quake/index.html?lang=es'\n",
    "options = webdriver.ChromeOptions()\n",
    "options.add_argument('--headless') # Ejecuta el navegador en modo headless (sin interfaz gráfica)\n",
    "driver = webdriver.Chrome(options=options)\n",
    "\n",
    "# Abre la página web con Selenium\n",
    "driver.get(url)\n",
    "\n",
    "# Espera a que se cargue la tabla dinámica (ajusta el tiempo según sea necesario)\n",
    "time.sleep(5)\n",
    "\n",
    "# Extrae el código HTML de la página\n",
    "html = driver.page_source\n"
   ]
  },
  {
   "attachments": {},
   "cell_type": "markdown",
   "metadata": {},
   "source": [
    "## Descarga de informacion"
   ]
  },
  {
   "cell_type": "code",
   "execution_count": 7,
   "metadata": {},
   "outputs": [
    {
     "name": "stdout",
     "output_type": "stream",
     "text": [
      "Descarga exitosa\n"
     ]
    }
   ],
   "source": [
    "soup = BeautifulSoup(html, 'html.parser')\n",
    "table = soup.find_all('table')[0]\n",
    "df = pd.read_html(str(table))[0]\n",
    "print('Descarga exitosa')\n",
    "# Cierra el driver de Selenium\n",
    "driver.quit()"
   ]
  },
  {
   "cell_type": "code",
   "execution_count": 9,
   "metadata": {},
   "outputs": [
    {
     "name": "stdout",
     "output_type": "stream",
     "text": [
      "<class 'pandas.core.frame.DataFrame'>\n",
      "RangeIndex: 209 entries, 0 to 208\n",
      "Data columns (total 5 columns):\n",
      " #   Column                                        Non-Null Count  Dtype \n",
      "---  ------                                        --------------  ----- \n",
      " 0   Hora y día cuando fue detectado el terremoto  209 non-null    object\n",
      " 1   Lugar del epicentro                           209 non-null    object\n",
      " 2   Magnitud                                      209 non-null    object\n",
      " 3   La mayor intensidad sísmica                   209 non-null    object\n",
      " 4   Hora y día de la emisión                      209 non-null    object\n",
      "dtypes: object(5)\n",
      "memory usage: 8.3+ KB\n"
     ]
    }
   ],
   "source": [
    "df.info()"
   ]
  }
 ],
 "metadata": {
  "kernelspec": {
   "display_name": "venv",
   "language": "python",
   "name": "python3"
  },
  "language_info": {
   "codemirror_mode": {
    "name": "ipython",
    "version": 3
   },
   "file_extension": ".py",
   "mimetype": "text/x-python",
   "name": "python",
   "nbconvert_exporter": "python",
   "pygments_lexer": "ipython3",
   "version": "3.10.6"
  },
  "orig_nbformat": 4
 },
 "nbformat": 4,
 "nbformat_minor": 2
}
