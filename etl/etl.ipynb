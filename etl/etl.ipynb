{
 "cells": [
  {
   "cell_type": "markdown",
   "metadata": {},
   "source": [
    "$$\n",
    "ETL\n",
    "$$"
   ]
  },
  {
   "cell_type": "code",
   "execution_count": 24,
   "metadata": {},
   "outputs": [],
   "source": [
    "# pip install lxml\n",
    "# pip install beautifulsoup4\n",
    "# pip install html5lib\n",
    "# pip install selenium"
   ]
  },
  {
   "cell_type": "code",
<<<<<<< HEAD
   "execution_count": 2,
   "metadata": {
    "tags": []
   },
   "outputs": [
    {
     "ename": "ModuleNotFoundError",
     "evalue": "No module named 'selenium'",
     "output_type": "error",
     "traceback": [
      "\u001b[0;31m---------------------------------------------------------------------------\u001b[0m",
      "\u001b[0;31mModuleNotFoundError\u001b[0m                       Traceback (most recent call last)",
      "Cell \u001b[0;32mIn[2], line 2\u001b[0m\n\u001b[1;32m      1\u001b[0m \u001b[38;5;66;03m# importar libreias necesarias\u001b[39;00m\n\u001b[0;32m----> 2\u001b[0m \u001b[38;5;28;01mfrom\u001b[39;00m \u001b[38;5;21;01mselenium\u001b[39;00m \u001b[38;5;28;01mimport\u001b[39;00m webdriver\n\u001b[1;32m      3\u001b[0m \u001b[38;5;28;01mimport\u001b[39;00m \u001b[38;5;21;01mpandas\u001b[39;00m \u001b[38;5;28;01mas\u001b[39;00m \u001b[38;5;21;01mpd\u001b[39;00m\n\u001b[1;32m      4\u001b[0m \u001b[38;5;28;01mimport\u001b[39;00m \u001b[38;5;21;01mtime\u001b[39;00m\n",
      "\u001b[0;31mModuleNotFoundError\u001b[0m: No module named 'selenium'"
     ]
    }
   ],
=======
   "execution_count": 1,
   "metadata": {
    "tags": []
   },
   "outputs": [],
   "source": [
    "import pandas as pd\n",
    "import io"
   ]
  },
  {
   "cell_type": "code",
   "execution_count": null,
   "metadata": {
    "tags": []
   },
   "execution_count": 1,
   "metadata": {},
   "outputs": [],
>>>>>>> 95dc7827dd79481ea00d09c2d58fe231e06be973
   "source": [
    "# importar libreias necesarias\n",
    "from selenium import webdriver\n",
    "\n",
    "import time\n",
    "from bs4 import BeautifulSoup\n",
    "\n"
    "import io\n",
    "import numpy as np\n",
    "import seaborn as sns\n",
    "import matplotlib.pyplot as plt"
   ]
  },
  {
   "cell_type": "code",
   "execution_count": null,
   "metadata": {},
   "outputs": [],
   "source": [
    "''' \n",
    "Este código utiliza Selenium para abrir la página web especificada en la variable url y esperar a que se cargue la tabla dinámica.\n",
    "Luego, se extrae el código HTML de la página y se usa BeautifulSoup y pandas para extraer la tabla y guardarla en un DataFrame\n",
    "'''\n",
    "# Url de Agencia Meteorologia de japon. Información de Terremotos dinamica\n",
    "url = 'https://www.data.jma.go.jp/multi/quake/index.html?lang=es'\n",
    "\n",
    "# Configura el driver de Selenium (en este caso, se usa Chrome)\n",
    "options = webdriver.ChromeOptions()\n",
    "options.add_argument('--headless') # Ejecuta el navegador en modo headless (sin interfaz gráfica)\n",
    "driver = webdriver.Chrome(options=options)\n",
    "\n",
    "# Abre la página web con Selenium\n",
    "driver.get(url)\n",
    "\n",
    "# Espera a que se cargue la tabla dinámica (ajusta el tiempo según sea necesario)\n",
    "time.sleep(5)\n",
    "\n",
    "# Extrae el código HTML de la página\n",
    "html = driver.page_source\n",
    "\n",
    "# Usa BeautifulSoup y pandas para extraer la tabla\n",
    "soup = BeautifulSoup(html, 'html.parser')\n",
    "table = soup.find_all('table')[0]\n",
    "df = pd.read_html(str(table))[0]\n",
    "print('Descarga exitosa')\n",
    "# Cierra el driver de Selenium\n",
    "driver.quit()"
   ]
  },
  {
   "cell_type": "code",
   "execution_count": null,
   "metadata": {},
   "outputs": [
    {
     "data": {
      "text/html": [
       "<div>\n",
       "<style scoped>\n",
       "    .dataframe tbody tr th:only-of-type {\n",
       "        vertical-align: middle;\n",
       "    }\n",
       "\n",
       "    .dataframe tbody tr th {\n",
       "        vertical-align: top;\n",
       "    }\n",
       "\n",
       "    .dataframe thead th {\n",
       "        text-align: right;\n",
       "    }\n",
       "</style>\n",
       "<table border=\"1\" class=\"dataframe\">\n",
       "  <thead>\n",
       "    <tr style=\"text-align: right;\">\n",
       "      <th></th>\n",
       "      <th>Hora y día cuando fue detectado el terremoto</th>\n",
       "      <th>Lugar del epicentro</th>\n",
       "      <th>Magnitud</th>\n",
       "      <th>La mayor intensidad sísmica</th>\n",
       "      <th>Hora y día de la emisión</th>\n",
       "    </tr>\n",
       "  </thead>\n",
       "  <tbody>\n",
       "    <tr>\n",
       "      <th>0</th>\n",
       "      <td>2023/05/02 13:12</td>\n",
       "      <td>Aizu, Prefectura de Fukushima</td>\n",
       "      <td>2.3</td>\n",
       "      <td>1</td>\n",
       "      <td>2023/05/02 13:15</td>\n",
       "    </tr>\n",
       "    <tr>\n",
       "      <th>1</th>\n",
       "      <td>2023/05/02 00:13</td>\n",
       "      <td>Mar de Hyuga</td>\n",
       "      <td>2.8</td>\n",
       "      <td>1</td>\n",
       "      <td>2023/05/02 00:16</td>\n",
       "    </tr>\n",
       "    <tr>\n",
       "      <th>2</th>\n",
       "      <td>2023/05/01 19:48</td>\n",
       "      <td>Alta mar de Prefectura de Miyagi</td>\n",
       "      <td>3.1</td>\n",
       "      <td>1</td>\n",
       "      <td>2023/05/01 19:50</td>\n",
       "    </tr>\n",
       "    <tr>\n",
       "      <th>3</th>\n",
       "      <td>2023/05/01 15:56</td>\n",
       "      <td>Alta mar de Prefectura de Fukushima</td>\n",
       "      <td>4.3</td>\n",
       "      <td>2</td>\n",
       "      <td>2023/05/01 15:59</td>\n",
       "    </tr>\n",
       "    <tr>\n",
       "      <th>4</th>\n",
       "      <td>2023/05/01 12:20</td>\n",
       "      <td>Alta mar de Prefectura de Fukushima</td>\n",
       "      <td>4.0</td>\n",
       "      <td>1</td>\n",
       "      <td>2023/05/01 12:24</td>\n",
       "    </tr>\n",
       "    <tr>\n",
       "      <th>5</th>\n",
       "      <td>2023/05/01 05:56</td>\n",
       "      <td>Mares cercanos de Islas Tokara</td>\n",
       "      <td>2.4</td>\n",
       "      <td>1</td>\n",
       "      <td>2023/05/01 05:59</td>\n",
       "    </tr>\n",
       "    <tr>\n",
       "      <th>6</th>\n",
       "      <td>2023/05/01 04:59</td>\n",
       "      <td>Mares cercanos de Isla principal de Okinawa</td>\n",
       "      <td>5.4</td>\n",
       "      <td>2</td>\n",
       "      <td>2023/05/01 05:03</td>\n",
       "    </tr>\n",
       "    <tr>\n",
       "      <th>7</th>\n",
       "      <td>2023/05/01 04:09</td>\n",
       "      <td>Mares cercanos de Islas Tokara</td>\n",
       "      <td>2.7</td>\n",
       "      <td>2</td>\n",
       "      <td>2023/05/01 04:13</td>\n",
       "    </tr>\n",
       "    <tr>\n",
       "      <th>8</th>\n",
       "      <td>2023/05/01 03:35</td>\n",
       "      <td>Región Noto, Prefectura de Ishikawa</td>\n",
       "      <td>2.7</td>\n",
       "      <td>1</td>\n",
       "      <td>2023/05/01 03:38</td>\n",
       "    </tr>\n",
       "    <tr>\n",
       "      <th>9</th>\n",
       "      <td>2023/05/01 01:43</td>\n",
       "      <td>Mares cercanos de Isla principal de Okinawa</td>\n",
       "      <td>2.8</td>\n",
       "      <td>1</td>\n",
       "      <td>2023/05/01 01:46</td>\n",
       "    </tr>\n",
       "  </tbody>\n",
       "</table>\n",
       "</div>"
      ],
      "text/plain": [
       "  Hora y día cuando fue detectado el terremoto   \n",
       "0                             2023/05/02 13:12  \\\n",
       "1                             2023/05/02 00:13   \n",
       "2                             2023/05/01 19:48   \n",
       "3                             2023/05/01 15:56   \n",
       "4                             2023/05/01 12:20   \n",
       "5                             2023/05/01 05:56   \n",
       "6                             2023/05/01 04:59   \n",
       "7                             2023/05/01 04:09   \n",
       "8                             2023/05/01 03:35   \n",
       "9                             2023/05/01 01:43   \n",
       "\n",
       "                           Lugar del epicentro Magnitud   \n",
       "0                Aizu, Prefectura de Fukushima      2.3  \\\n",
       "1                                 Mar de Hyuga      2.8   \n",
       "2             Alta mar de Prefectura de Miyagi      3.1   \n",
       "3          Alta mar de Prefectura de Fukushima      4.3   \n",
       "4          Alta mar de Prefectura de Fukushima      4.0   \n",
       "5               Mares cercanos de Islas Tokara      2.4   \n",
       "6  Mares cercanos de Isla principal de Okinawa      5.4   \n",
       "7               Mares cercanos de Islas Tokara      2.7   \n",
       "8          Región Noto, Prefectura de Ishikawa      2.7   \n",
       "9  Mares cercanos de Isla principal de Okinawa      2.8   \n",
       "\n",
       "  La mayor intensidad sísmica Hora y día de la emisión  \n",
       "0                           1         2023/05/02 13:15  \n",
       "1                           1         2023/05/02 00:16  \n",
       "2                           1         2023/05/01 19:50  \n",
       "3                           2         2023/05/01 15:59  \n",
       "4                           1         2023/05/01 12:24  \n",
       "5                           1         2023/05/01 05:59  \n",
       "6                           2         2023/05/01 05:03  \n",
       "7                           2         2023/05/01 04:13  \n",
       "8                           1         2023/05/01 03:38  \n",
       "9                           1         2023/05/01 01:46  "
      ]
     },
     "execution_count": 27,
     "metadata": {},
     "output_type": "execute_result"
    }
   ],
   "source": [
    "df.head(10)"
   ]
  },
  {
   "cell_type": "code",
   "execution_count": null,
   "metadata": {},
   "outputs": [
    {
     "name": "stdout",
     "output_type": "stream",
     "text": [
      "<class 'pandas.core.frame.DataFrame'>\n",
      "RangeIndex: 154 entries, 0 to 153\n",
      "Data columns (total 5 columns):\n",
      " #   Column                                        Non-Null Count  Dtype \n",
      "---  ------                                        --------------  ----- \n",
      " 0   Hora y día cuando fue detectado el terremoto  154 non-null    object\n",
      " 1   Lugar del epicentro                           154 non-null    object\n",
      " 2   Magnitud                                      154 non-null    object\n",
      " 3   La mayor intensidad sísmica                   154 non-null    object\n",
      " 4   Hora y día de la emisión                      154 non-null    object\n",
      "dtypes: object(5)\n",
      "memory usage: 6.1+ KB\n"
     ]
    }
   ],
   "source": [
    "df.info()"
   ]
  },
  {
   "cell_type": "code",
<<<<<<< HEAD
   "execution_count": 29,
   "metadata": {
    "scrolled": true,
    "tags": []
   },
=======
   "execution_count": null,
   "metadata": {},
>>>>>>> 95dc7827dd79481ea00d09c2d58fe231e06be973
   "outputs": [
    {
     "data": {
      "text/html": [
       "<div>\n",
       "<style scoped>\n",
       "    .dataframe tbody tr th:only-of-type {\n",
       "        vertical-align: middle;\n",
       "    }\n",
       "\n",
       "    .dataframe tbody tr th {\n",
       "        vertical-align: top;\n",
       "    }\n",
       "\n",
       "    .dataframe thead th {\n",
       "        text-align: right;\n",
       "    }\n",
       "</style>\n",
       "<table border=\"1\" class=\"dataframe\">\n",
       "  <thead>\n",
       "    <tr style=\"text-align: right;\">\n",
       "      <th></th>\n",
       "      <th>Hora y día cuando fue detectado el terremoto</th>\n",
       "      <th>Lugar del epicentro</th>\n",
       "      <th>Magnitud</th>\n",
       "      <th>La mayor intensidad sísmica</th>\n",
       "      <th>Hora y día de la emisión</th>\n",
       "    </tr>\n",
       "  </thead>\n",
       "  <tbody>\n",
       "    <tr>\n",
       "      <th>count</th>\n",
       "      <td>154</td>\n",
       "      <td>154</td>\n",
       "      <td>154</td>\n",
       "      <td>154</td>\n",
       "      <td>154</td>\n",
       "    </tr>\n",
       "    <tr>\n",
       "      <th>unique</th>\n",
       "      <td>153</td>\n",
       "      <td>57</td>\n",
       "      <td>41</td>\n",
       "      <td>5</td>\n",
       "      <td>153</td>\n",
       "    </tr>\n",
       "    <tr>\n",
       "      <th>top</th>\n",
       "      <td>2023/05/01 00:56</td>\n",
       "      <td>Mares cercanos de Isla Chichishima</td>\n",
       "      <td>3.1</td>\n",
       "      <td>1</td>\n",
       "      <td>2023/04/10 17:00</td>\n",
       "    </tr>\n",
       "    <tr>\n",
       "      <th>freq</th>\n",
       "      <td>2</td>\n",
       "      <td>19</td>\n",
       "      <td>10</td>\n",
       "      <td>90</td>\n",
       "      <td>2</td>\n",
       "    </tr>\n",
       "  </tbody>\n",
       "</table>\n",
       "</div>"
      ],
      "text/plain": [
       "       Hora y día cuando fue detectado el terremoto   \n",
       "count                                           154  \\\n",
       "unique                                          153   \n",
       "top                                2023/05/01 00:56   \n",
       "freq                                              2   \n",
       "\n",
       "                       Lugar del epicentro Magnitud   \n",
       "count                                  154      154  \\\n",
       "unique                                  57       41   \n",
       "top     Mares cercanos de Isla Chichishima      3.1   \n",
       "freq                                    19       10   \n",
       "\n",
       "       La mayor intensidad sísmica Hora y día de la emisión  \n",
       "count                          154                      154  \n",
       "unique                           5                      153  \n",
       "top                              1         2023/04/10 17:00  \n",
       "freq                            90                        2  "
      ]
     },
     "execution_count": 29,
     "metadata": {},
     "output_type": "execute_result"
    }
   ],
   "source": [
    "df.describe()"
   ]
  },
  {
   "cell_type": "code",
   "execution_count": null,
   "metadata": {},
   "outputs": [
    {
     "data": {
      "text/plain": [
       "Hora y día cuando fue detectado el terremoto    0\n",
       "Lugar del epicentro                             0\n",
       "Magnitud                                        0\n",
       "La mayor intensidad sísmica                     0\n",
       "Hora y día de la emisión                        0\n",
       "dtype: int64"
      ]
     },
     "execution_count": 30,
     "metadata": {},
     "output_type": "execute_result"
    }
   ],
   "source": [
    "df.isnull().sum()"
   ]
  },
  {
   "cell_type": "markdown",
   "metadata": {},
   "source": [
    "$$\n",
    "EEUU\n",
    "$$"
   ]
  },
  {
   "attachments": {},
   "cell_type": "markdown",
   "metadata": {},
   "source": [
    "* Analsis de datos extraidos de USGS (El Servicio Geologico de los Estados Unidos )https://earthquake.usgs.gov/fdsnws/event/1/"
   ]
  },
  {
   "cell_type": "code",
<<<<<<< HEAD
   "execution_count": 1,
   "metadata": {
    "tags": []
   },
=======
   "execution_count": 2,
   "metadata": {
    "tags": []
   },
   "execution_count": 5,
   "metadata": {},
>>>>>>> 95dc7827dd79481ea00d09c2d58fe231e06be973
   "outputs": [],
   "source": [
    "import requests\n",
    "\n",
    "url = 'https://earthquake.usgs.gov/fdsnws/event/1/query?format=csv&endtime=now'\n",
    "response = requests.get(url)\n",
<<<<<<< HEAD
    "df = pd.read_csv(io.StringIO(response.text))\n",
    "\n",
    "df.head()"
=======
    "dfEEUU = pd.read_csv(io.StringIO(response.text))"
   ]
  },
  {
   "cell_type": "code",
   "execution_count": 3,
   "metadata": {
    "tags": []
   },
   "outputs": [
    {
     "name": "stdout",
     "output_type": "stream",
     "text": [
      "<class 'pandas.core.frame.DataFrame'>\n",
      "RangeIndex: 12075 entries, 0 to 12074\n",
      "Data columns (total 22 columns):\n",
      " #   Column           Non-Null Count  Dtype  \n",
      "---  ------           --------------  -----  \n",
      " 0   time             12075 non-null  object \n",
      " 1   latitude         12075 non-null  float64\n",
      " 2   longitude        12075 non-null  float64\n",
      " 3   depth            12075 non-null  float64\n",
      " 4   mag              12075 non-null  float64\n",
      " 5   magType          12075 non-null  object \n",
      " 6   nst              8686 non-null   float64\n",
      " 7   gap              8686 non-null   float64\n",
      " 8   dmin             6464 non-null   float64\n",
      " 9   rms              12075 non-null  float64\n",
      " 10  net              12075 non-null  object \n",
      " 11  id               12075 non-null  object \n",
      " 12  updated          12075 non-null  object \n",
      " 13  place            11744 non-null  object \n",
      " 14  type             12075 non-null  object \n",
      " 15  horizontalError  7985 non-null   float64\n",
      " 16  depthError       12075 non-null  float64\n",
      " 17  magError         8660 non-null   float64\n",
      " 18  magNst           8681 non-null   float64\n",
      " 19  status           12075 non-null  object \n",
      " 20  locationSource   12075 non-null  object \n",
      " 21  magSource        12075 non-null  object \n",
      "dtypes: float64(12), object(10)\n",
      "memory usage: 2.0+ MB\n"
     ]
    }
   ],
   "source": [
    "df.info()"
   ]
  },
  {
   "cell_type": "code",
   "execution_count": 4,
   "metadata": {
    "tags": []
   },
   "execution_count": null,
   "metadata": {},
   "outputs": [
    {
     "data": {
      "text/html": [
       "<div>\n",
       "<style scoped>\n",
       "    .dataframe tbody tr th:only-of-type {\n",
       "        vertical-align: middle;\n",
       "    }\n",
       "\n",
       "    .dataframe tbody tr th {\n",
       "        vertical-align: top;\n",
       "    }\n",
       "\n",
       "    .dataframe thead th {\n",
       "        text-align: right;\n",
       "    }\n",
       "</style>\n",
       "<table border=\"1\" class=\"dataframe\">\n",
       "  <thead>\n",
       "    <tr style=\"text-align: right;\">\n",
       "      <th></th>\n",
       "      <th>time</th>\n",
       "      <th>latitude</th>\n",
       "      <th>longitude</th>\n",
       "      <th>depth</th>\n",
       "      <th>mag</th>\n",
       "      <th>magType</th>\n",
       "      <th>nst</th>\n",
       "      <th>gap</th>\n",
       "      <th>dmin</th>\n",
       "      <th>rms</th>\n",
       "      <th>...</th>\n",
       "      <th>updated</th>\n",
       "      <th>place</th>\n",
       "      <th>type</th>\n",
       "      <th>horizontalError</th>\n",
       "      <th>depthError</th>\n",
       "      <th>magError</th>\n",
       "      <th>magNst</th>\n",
       "      <th>status</th>\n",
       "      <th>locationSource</th>\n",
       "      <th>magSource</th>\n",
       "    </tr>\n",
       "  </thead>\n",
       "  <tbody>\n",
       "    <tr>\n",
       "      <th>6233</th>\n",
       "      <td>2023-04-16T20:10:09.610Z</td>\n",
       "      <td>59.888300</td>\n",
       "      <td>-151.120000</td>\n",
       "      <td>55.10</td>\n",
       "      <td>1.50</td>\n",
       "      <td>ml</td>\n",
       "      <td>NaN</td>\n",
       "      <td>NaN</td>\n",
       "      <td>NaN</td>\n",
       "      <td>0.43</td>\n",
       "      <td>...</td>\n",
       "      <td>2023-04-20T20:58:55.865Z</td>\n",
       "      <td>9 km WNW of Fox River, Alaska</td>\n",
       "      <td>earthquake</td>\n",
       "      <td>NaN</td>\n",
       "      <td>0.60</td>\n",
       "      <td>NaN</td>\n",
       "      <td>NaN</td>\n",
       "      <td>reviewed</td>\n",
       "      <td>ak</td>\n",
       "      <td>ak</td>\n",
       "    </tr>\n",
       "    <tr>\n",
       "      <th>7194</th>\n",
       "      <td>2023-04-14T08:09:46.852Z</td>\n",
       "      <td>63.131000</td>\n",
       "      <td>-150.997100</td>\n",
       "      <td>126.50</td>\n",
       "      <td>1.60</td>\n",
       "      <td>ml</td>\n",
       "      <td>NaN</td>\n",
       "      <td>NaN</td>\n",
       "      <td>NaN</td>\n",
       "      <td>0.53</td>\n",
       "      <td>...</td>\n",
       "      <td>2023-04-20T20:30:52.074Z</td>\n",
       "      <td>58 km SE of Denali National Park, Alaska</td>\n",
       "      <td>earthquake</td>\n",
       "      <td>NaN</td>\n",
       "      <td>0.40</td>\n",
       "      <td>NaN</td>\n",
       "      <td>NaN</td>\n",
       "      <td>reviewed</td>\n",
       "      <td>ak</td>\n",
       "      <td>ak</td>\n",
       "    </tr>\n",
       "    <tr>\n",
       "      <th>1604</th>\n",
       "      <td>2023-04-28T18:46:38.650Z</td>\n",
       "      <td>34.198000</td>\n",
       "      <td>-117.448667</td>\n",
       "      <td>2.46</td>\n",
       "      <td>0.97</td>\n",
       "      <td>ml</td>\n",
       "      <td>6.0</td>\n",
       "      <td>101.0</td>\n",
       "      <td>0.043370</td>\n",
       "      <td>0.14</td>\n",
       "      <td>...</td>\n",
       "      <td>2023-04-28T23:52:26.047Z</td>\n",
       "      <td>5km WSW of Devore, CA</td>\n",
       "      <td>earthquake</td>\n",
       "      <td>0.90</td>\n",
       "      <td>1.06</td>\n",
       "      <td>0.664000</td>\n",
       "      <td>2.0</td>\n",
       "      <td>reviewed</td>\n",
       "      <td>ci</td>\n",
       "      <td>ci</td>\n",
       "    </tr>\n",
       "    <tr>\n",
       "      <th>8384</th>\n",
       "      <td>2023-04-12T00:22:05.760Z</td>\n",
       "      <td>38.792168</td>\n",
       "      <td>-122.763496</td>\n",
       "      <td>2.26</td>\n",
       "      <td>0.74</td>\n",
       "      <td>md</td>\n",
       "      <td>7.0</td>\n",
       "      <td>90.0</td>\n",
       "      <td>0.008948</td>\n",
       "      <td>0.01</td>\n",
       "      <td>...</td>\n",
       "      <td>2023-04-12T00:53:20.204Z</td>\n",
       "      <td>2km NNW of The Geysers, CA</td>\n",
       "      <td>earthquake</td>\n",
       "      <td>0.35</td>\n",
       "      <td>0.72</td>\n",
       "      <td>0.030000</td>\n",
       "      <td>6.0</td>\n",
       "      <td>automatic</td>\n",
       "      <td>nc</td>\n",
       "      <td>nc</td>\n",
       "    </tr>\n",
       "    <tr>\n",
       "      <th>5631</th>\n",
       "      <td>2023-04-18T10:19:16.250Z</td>\n",
       "      <td>19.384000</td>\n",
       "      <td>-155.277667</td>\n",
       "      <td>1.49</td>\n",
       "      <td>2.48</td>\n",
       "      <td>ml</td>\n",
       "      <td>38.0</td>\n",
       "      <td>65.0</td>\n",
       "      <td>NaN</td>\n",
       "      <td>0.12</td>\n",
       "      <td>...</td>\n",
       "      <td>2023-04-18T20:16:14.080Z</td>\n",
       "      <td>7 km SW of Volcano, Hawaii</td>\n",
       "      <td>earthquake</td>\n",
       "      <td>0.19</td>\n",
       "      <td>0.12</td>\n",
       "      <td>0.077188</td>\n",
       "      <td>8.0</td>\n",
       "      <td>reviewed</td>\n",
       "      <td>hv</td>\n",
       "      <td>hv</td>\n",
       "      <th>0</th>\n",
       "      <td>2023-05-03T13:02:09.440Z</td>\n",
       "      <td>38.823502</td>\n",
       "      <td>-122.850334</td>\n",
       "      <td>2.68</td>\n",
       "      <td>0.97</td>\n",
       "      <td>md</td>\n",
       "      <td>8.0</td>\n",
       "      <td>118.0</td>\n",
       "      <td>0.011960</td>\n",
       "      <td>0.01</td>\n",
       "      <td>...</td>\n",
       "      <td>2023-05-03T13:03:45.979Z</td>\n",
       "      <td>10km WNW of The Geysers, CA</td>\n",
       "      <td>earthquake</td>\n",
       "      <td>0.43</td>\n",
       "      <td>1.52</td>\n",
       "      <td>0.20</td>\n",
       "      <td>9.0</td>\n",
       "      <td>automatic</td>\n",
       "      <td>nc</td>\n",
       "      <td>nc</td>\n",r
       "    </tr>\n",
       "    <tr>\n",
       "      <th>1</th>\n",
       "      <td>2023-05-03T12:57:29.710Z</td>\n",
       "      <td>38.830502</td>\n",
       "      <td>-122.815002</td>\n",
       "      <td>2.22</td>\n",
       "      <td>0.77</td>\n",
       "      <td>md</td>\n",
       "      <td>13.0</td>\n",
       "      <td>57.0</td>\n",
       "      <td>0.008073</td>\n",
       "      <td>0.01</td>\n",
       "      <td>...</td>\n",
       "      <td>2023-05-03T13:09:12.209Z</td>\n",
       "      <td>8km NW of The Geysers, CA</td>\n",
       "      <td>earthquake</td>\n",
       "      <td>0.35</td>\n",
       "      <td>0.75</td>\n",
       "      <td>0.17</td>\n",
       "      <td>13.0</td>\n",
       "      <td>automatic</td>\n",
       "      <td>nc</td>\n",
       "      <td>nc</td>\n",
       "    </tr>\n",
       "  </tbody>\n",
       "</table>\n",
       "<p>2 rows × 22 columns</p>\n",
       "</div>"
      ],
      "text/plain": [
       "                          time   latitude   longitude   depth   mag magType  \\\n",
       "6233  2023-04-16T20:10:09.610Z  59.888300 -151.120000   55.10  1.50      ml   \n",
       "7194  2023-04-14T08:09:46.852Z  63.131000 -150.997100  126.50  1.60      ml   \n",
       "1604  2023-04-28T18:46:38.650Z  34.198000 -117.448667    2.46  0.97      ml   \n",
       "8384  2023-04-12T00:22:05.760Z  38.792168 -122.763496    2.26  0.74      md   \n",
       "5631  2023-04-18T10:19:16.250Z  19.384000 -155.277667    1.49  2.48      ml   \n",
       "\n",
       "       nst    gap      dmin   rms  ...                   updated  \\\n",
       "6233   NaN    NaN       NaN  0.43  ...  2023-04-20T20:58:55.865Z   \n",
       "7194   NaN    NaN       NaN  0.53  ...  2023-04-20T20:30:52.074Z   \n",
       "1604   6.0  101.0  0.043370  0.14  ...  2023-04-28T23:52:26.047Z   \n",
       "8384   7.0   90.0  0.008948  0.01  ...  2023-04-12T00:53:20.204Z   \n",
       "5631  38.0   65.0       NaN  0.12  ...  2023-04-18T20:16:14.080Z   \n",
       "\n",
       "                                         place        type horizontalError  \\\n",
       "6233             9 km WNW of Fox River, Alaska  earthquake             NaN   \n",
       "7194  58 km SE of Denali National Park, Alaska  earthquake             NaN   \n",
       "1604                     5km WSW of Devore, CA  earthquake            0.90   \n",
       "8384                2km NNW of The Geysers, CA  earthquake            0.35   \n",
       "5631                7 km SW of Volcano, Hawaii  earthquake            0.19   \n",
       "\n",
       "     depthError  magError  magNst     status  locationSource magSource  \n",
       "6233       0.60       NaN     NaN   reviewed              ak        ak  \n",
       "7194       0.40       NaN     NaN   reviewed              ak        ak  \n",
       "1604       1.06  0.664000     2.0   reviewed              ci        ci  \n",
       "8384       0.72  0.030000     6.0  automatic              nc        nc  \n",
       "5631       0.12  0.077188     8.0   reviewed              hv        hv  \n",
       "                       time   latitude   longitude  depth   mag magType   nst  \\\n",
       "0  2023-05-03T13:02:09.440Z  38.823502 -122.850334   2.68  0.97      md   8.0   \n",
       "1  2023-05-03T12:57:29.710Z  38.830502 -122.815002   2.22  0.77      md  13.0   \n",
       "\n",
       "     gap      dmin   rms  ...                   updated  \\\n",
       "0  118.0  0.011960  0.01  ...  2023-05-03T13:03:45.979Z   \n",
       "1   57.0  0.008073  0.01  ...  2023-05-03T13:09:12.209Z   \n",
       "\n",
       "                         place        type horizontalError depthError  \\\n",
       "0  10km WNW of The Geysers, CA  earthquake            0.43       1.52   \n",
       "1    8km NW of The Geysers, CA  earthquake            0.35       0.75   \n",
       "\n",
       "   magError  magNst     status  locationSource magSource  \n",
       "0      0.20     9.0  automatic              nc        nc  \n",
       "1      0.17    13.0  automatic              nc        nc  \n",
       "\n",
       "[2 rows x 22 columns]"
      ]
     },
     "execution_count": 4,
     "execution_count": 8,
     "metadata": {},
     "output_type": "execute_result"
    }
   ],
   "source": [
    "df.sample(5)"
>>>>>>> 95dc7827dd79481ea00d09c2d58fe231e06be973
   ]
  },
  {
   "cell_type": "code",
   "execution_count": 5,
   "metadata": {
    "tags": []
   },
   "outputs": [],
   "source": [
    "df_copy = df.copy()"
   ]
  },
  {
   "cell_type": "code",
   "execution_count": 6,
   "metadata": {
    "tags": []
   },
   "outputs": [
    {
     "data": {
      "text/html": [
       "<div>\n",
       "<style scoped>\n",
       "    .dataframe tbody tr th:only-of-type {\n",
       "        vertical-align: middle;\n",
       "    }\n",
       "\n",
       "    .dataframe tbody tr th {\n",
       "        vertical-align: top;\n",
       "    }\n",
       "\n",
       "    .dataframe thead th {\n",
       "        text-align: right;\n",
       "    }\n",
       "</style>\n",
       "<table border=\"1\" class=\"dataframe\">\n",
       "  <thead>\n",
       "    <tr style=\"text-align: right;\">\n",
       "      <th></th>\n",
       "      <th>latitude</th>\n",
       "      <th>longitude</th>\n",
       "      <th>depth</th>\n",
       "      <th>mag</th>\n",
       "      <th>magType</th>\n",
       "      <th>nst</th>\n",
       "      <th>gap</th>\n",
       "      <th>dmin</th>\n",
       "      <th>rms</th>\n",
       "      <th>net</th>\n",
       "      <th>id</th>\n",
       "      <th>updated</th>\n",
       "      <th>type</th>\n",
       "      <th>horizontalError</th>\n",
       "      <th>depthError</th>\n",
       "      <th>magError</th>\n",
       "      <th>magNst</th>\n",
       "      <th>status</th>\n",
       "      <th>locationSource</th>\n",
       "      <th>magSource</th>\n",
       "    </tr>\n",
       "  </thead>\n",
       "  <tbody>\n",
       "    <tr>\n",
       "      <th>3774</th>\n",
       "      <td>51.742900</td>\n",
       "      <td>-166.938500</td>\n",
       "      <td>17.900</td>\n",
       "      <td>2.70</td>\n",
       "      <td>ml</td>\n",
       "      <td>NaN</td>\n",
       "      <td>NaN</td>\n",
       "      <td>NaN</td>\n",
       "      <td>0.38</td>\n",
       "      <td>ak</td>\n",
       "      <td>ak02356zy02d</td>\n",
       "      <td>2023-04-28T17:40:22.187Z</td>\n",
       "      <td>earthquake</td>\n",
       "      <td>NaN</td>\n",
       "      <td>3.200</td>\n",
       "      <td>NaN</td>\n",
       "      <td>NaN</td>\n",
       "      <td>reviewed</td>\n",
       "      <td>ak</td>\n",
       "      <td>ak</td>\n",
       "    </tr>\n",
       "    <tr>\n",
       "      <th>3961</th>\n",
       "      <td>18.137900</td>\n",
       "      <td>-61.758300</td>\n",
       "      <td>24.623</td>\n",
       "      <td>4.40</td>\n",
       "      <td>mb</td>\n",
       "      <td>27.0</td>\n",
       "      <td>194.0</td>\n",
       "      <td>0.468000</td>\n",
       "      <td>0.45</td>\n",
       "      <td>us</td>\n",
       "      <td>us6000k6f4</td>\n",
       "      <td>2023-04-22T20:50:38.622Z</td>\n",
       "      <td>earthquake</td>\n",
       "      <td>2.84</td>\n",
       "      <td>7.779</td>\n",
       "      <td>0.179000</td>\n",
       "      <td>9.0</td>\n",
       "      <td>reviewed</td>\n",
       "      <td>us</td>\n",
       "      <td>us</td>\n",
       "    </tr>\n",
       "    <tr>\n",
       "      <th>11778</th>\n",
       "      <td>19.309500</td>\n",
       "      <td>-64.437000</td>\n",
       "      <td>39.670</td>\n",
       "      <td>3.39</td>\n",
       "      <td>md</td>\n",
       "      <td>5.0</td>\n",
       "      <td>329.0</td>\n",
       "      <td>1.023000</td>\n",
       "      <td>0.16</td>\n",
       "      <td>pr</td>\n",
       "      <td>pr71402488</td>\n",
       "      <td>2023-04-04T17:09:15.550Z</td>\n",
       "      <td>earthquake</td>\n",
       "      <td>4.09</td>\n",
       "      <td>14.160</td>\n",
       "      <td>0.038764</td>\n",
       "      <td>5.0</td>\n",
       "      <td>reviewed</td>\n",
       "      <td>pr</td>\n",
       "      <td>pr</td>\n",
       "    </tr>\n",
       "    <tr>\n",
       "      <th>9873</th>\n",
       "      <td>58.189500</td>\n",
       "      <td>-155.293500</td>\n",
       "      <td>2.090</td>\n",
       "      <td>-0.22</td>\n",
       "      <td>ml</td>\n",
       "      <td>7.0</td>\n",
       "      <td>148.0</td>\n",
       "      <td>NaN</td>\n",
       "      <td>0.06</td>\n",
       "      <td>av</td>\n",
       "      <td>av91839791</td>\n",
       "      <td>2023-04-11T19:43:23.710Z</td>\n",
       "      <td>earthquake</td>\n",
       "      <td>0.24</td>\n",
       "      <td>0.510</td>\n",
       "      <td>0.364737</td>\n",
       "      <td>7.0</td>\n",
       "      <td>reviewed</td>\n",
       "      <td>av</td>\n",
       "      <td>av</td>\n",
       "    </tr>\n",
       "    <tr>\n",
       "      <th>9640</th>\n",
       "      <td>35.626167</td>\n",
       "      <td>-97.983333</td>\n",
       "      <td>4.970</td>\n",
       "      <td>1.11</td>\n",
       "      <td>ml</td>\n",
       "      <td>39.0</td>\n",
       "      <td>47.0</td>\n",
       "      <td>0.133174</td>\n",
       "      <td>0.18</td>\n",
       "      <td>ok</td>\n",
       "      <td>ok2023gxko</td>\n",
       "      <td>2023-04-10T20:56:24.466Z</td>\n",
       "      <td>earthquake</td>\n",
       "      <td>NaN</td>\n",
       "      <td>0.600</td>\n",
       "      <td>0.230000</td>\n",
       "      <td>4.0</td>\n",
       "      <td>reviewed</td>\n",
       "      <td>ok</td>\n",
       "      <td>ok</td>\n",
       "    </tr>\n",
       "  </tbody>\n",
       "</table>\n",
       "</div>"
      ],
      "text/plain": [
       "        latitude   longitude   depth   mag magType   nst    gap      dmin  \\\n",
       "3774   51.742900 -166.938500  17.900  2.70      ml   NaN    NaN       NaN   \n",
       "3961   18.137900  -61.758300  24.623  4.40      mb  27.0  194.0  0.468000   \n",
       "11778  19.309500  -64.437000  39.670  3.39      md   5.0  329.0  1.023000   \n",
       "9873   58.189500 -155.293500   2.090 -0.22      ml   7.0  148.0       NaN   \n",
       "9640   35.626167  -97.983333   4.970  1.11      ml  39.0   47.0  0.133174   \n",
       "\n",
       "        rms net            id                   updated        type  \\\n",
       "3774   0.38  ak  ak02356zy02d  2023-04-28T17:40:22.187Z  earthquake   \n",
       "3961   0.45  us    us6000k6f4  2023-04-22T20:50:38.622Z  earthquake   \n",
       "11778  0.16  pr    pr71402488  2023-04-04T17:09:15.550Z  earthquake   \n",
       "9873   0.06  av    av91839791  2023-04-11T19:43:23.710Z  earthquake   \n",
       "9640   0.18  ok    ok2023gxko  2023-04-10T20:56:24.466Z  earthquake   \n",
       "\n",
       "       horizontalError  depthError  magError  magNst    status locationSource  \\\n",
       "3774               NaN       3.200       NaN     NaN  reviewed             ak   \n",
       "3961              2.84       7.779  0.179000     9.0  reviewed             us   \n",
       "11778             4.09      14.160  0.038764     5.0  reviewed             pr   \n",
       "9873              0.24       0.510  0.364737     7.0  reviewed             av   \n",
       "9640               NaN       0.600  0.230000     4.0  reviewed             ok   \n",
       "\n",
       "      magSource  \n",
       "3774         ak  \n",
       "3961         us  \n",
       "11778        pr  \n",
       "9873         av  \n",
       "9640         ok  "
      ]
     },
     "execution_count": 6,
     "metadata": {},
     "output_type": "execute_result"
    }
   ],
   "source": [
    "del df_copy['time']\n",
    "del df_copy['place']\n",
    "\n",
    "df_copy.sample(5)"
   ]
  },
  {
   "cell_type": "code",
   "execution_count": 7,
   "metadata": {
    "tags": []
   },
   "outputs": [
    {
     "data": {
      "text/plain": [
       "array(['earthquake', 'quarry blast', 'explosion', 'other event',\n",
       "       'ice quake', 'chemical explosion'], dtype=object)"
      ]
     },
     "execution_count": 7,
     "metadata": {},
     "output_type": "execute_result"
    }
   ],
   "source": [
    "df_copy.type.unique()"
   ]
  },
  {
   "cell_type": "code",
   "execution_count": 8,
   "metadata": {
    "tags": []
   },
   "outputs": [
    {
     "data": {
      "text/plain": [
       "array(['nc', 'ci', 'ak', 'pr', 'us', 'nn', 'ok', 'uu', 'hv', 'se', 'av',\n",
       "       'mb', 'uw', 'tx', 'nm'], dtype=object)"
      ]
     },
     "execution_count": 8,
     "metadata": {},
     "output_type": "execute_result"
    }
   ],
   "source": [
    "df_copy.net.unique()"
   ]
  },
  {
   "cell_type": "code",
   "execution_count": 9,
   "metadata": {
    "tags": []
   },
   "outputs": [
    {
     "data": {
      "text/plain": [
       "array(['nc', 'ci', 'ak', 'pr', 'us', 'nn', 'ok', 'uu', 'hv', 'se', 'av',\n",
       "       'mb', 'uw', 'tx', 'nm'], dtype=object)"
      ]
     },
     "execution_count": 9,
     "metadata": {},
     "output_type": "execute_result"
    }
   ],
   "source": [
    "df_copy.locationSource.unique()"
   ]
  },
  {
   "cell_type": "code",
   "execution_count": 10,
   "metadata": {
    "tags": []
   },
   "outputs": [
    {
     "data": {
      "text/plain": [
       "count    12075.000000\n",
       "mean         1.484056\n",
       "std          1.176381\n",
       "min         -1.370000\n",
       "25%          0.790000\n",
       "50%          1.300000\n",
       "75%          1.900000\n",
       "max          7.100000\n",
       "Name: mag, dtype: float64"
      ]
     },
     "execution_count": 10,
     "metadata": {},
     "output_type": "execute_result"
    }
   ],
   "source": [
    "df_copy.mag.describe()"
   ]
  },
  {
   "cell_type": "code",
   "execution_count": 11,
   "metadata": {
    "tags": []
   },
   "outputs": [
    {
     "data": {
      "text/html": [
       "<div>\n",
       "<style scoped>\n",
       "    .dataframe tbody tr th:only-of-type {\n",
       "        vertical-align: middle;\n",
       "    }\n",
       "\n",
       "    .dataframe tbody tr th {\n",
       "        vertical-align: top;\n",
       "    }\n",
       "\n",
       "    .dataframe thead th {\n",
       "        text-align: right;\n",
       "    }\n",
       "</style>\n",
       "<table border=\"1\" class=\"dataframe\">\n",
       "  <thead>\n",
       "    <tr style=\"text-align: right;\">\n",
       "      <th></th>\n",
       "      <th>latitude</th>\n",
       "      <th>longitude</th>\n",
       "      <th>depth</th>\n",
       "      <th>mag</th>\n",
       "      <th>magType</th>\n",
       "      <th>nst</th>\n",
       "      <th>gap</th>\n",
       "      <th>dmin</th>\n",
       "      <th>rms</th>\n",
       "      <th>net</th>\n",
       "      <th>id</th>\n",
       "      <th>updated</th>\n",
       "      <th>type</th>\n",
       "      <th>horizontalError</th>\n",
       "      <th>depthError</th>\n",
       "      <th>magError</th>\n",
       "      <th>magNst</th>\n",
       "      <th>status</th>\n",
       "      <th>locationSource</th>\n",
       "      <th>magSource</th>\n",
       "    </tr>\n",
       "  </thead>\n",
       "  <tbody>\n",
       "    <tr>\n",
       "      <th>3179</th>\n",
       "      <td>-0.7985</td>\n",
       "      <td>98.5237</td>\n",
       "      <td>34.000</td>\n",
       "      <td>7.1</td>\n",
       "      <td>mww</td>\n",
       "      <td>83.0</td>\n",
       "      <td>82.0</td>\n",
       "      <td>2.293</td>\n",
       "      <td>0.74</td>\n",
       "      <td>us</td>\n",
       "      <td>us7000jvl3</td>\n",
       "      <td>2023-05-02T18:01:08.977Z</td>\n",
       "      <td>earthquake</td>\n",
       "      <td>2.89</td>\n",
       "      <td>1.875</td>\n",
       "      <td>0.062</td>\n",
       "      <td>25.0</td>\n",
       "      <td>reviewed</td>\n",
       "      <td>us</td>\n",
       "      <td>us</td>\n",
       "    </tr>\n",
       "    <tr>\n",
       "      <th>3485</th>\n",
       "      <td>-29.9676</td>\n",
       "      <td>-177.8264</td>\n",
       "      <td>43.063</td>\n",
       "      <td>7.1</td>\n",
       "      <td>mww</td>\n",
       "      <td>126.0</td>\n",
       "      <td>23.0</td>\n",
       "      <td>0.708</td>\n",
       "      <td>0.50</td>\n",
       "      <td>us</td>\n",
       "      <td>us6000k6mg</td>\n",
       "      <td>2023-04-26T21:00:28.040Z</td>\n",
       "      <td>earthquake</td>\n",
       "      <td>8.37</td>\n",
       "      <td>4.305</td>\n",
       "      <td>0.048</td>\n",
       "      <td>42.0</td>\n",
       "      <td>reviewed</td>\n",
       "      <td>us</td>\n",
       "      <td>us</td>\n",
       "    </tr>\n",
       "  </tbody>\n",
       "</table>\n",
       "</div>"
      ],
      "text/plain": [
       "      latitude  longitude   depth  mag magType    nst   gap   dmin   rms net  \\\n",
       "3179   -0.7985    98.5237  34.000  7.1     mww   83.0  82.0  2.293  0.74  us   \n",
       "3485  -29.9676  -177.8264  43.063  7.1     mww  126.0  23.0  0.708  0.50  us   \n",
       "\n",
       "              id                   updated        type  horizontalError  \\\n",
       "3179  us7000jvl3  2023-05-02T18:01:08.977Z  earthquake             2.89   \n",
       "3485  us6000k6mg  2023-04-26T21:00:28.040Z  earthquake             8.37   \n",
       "\n",
       "      depthError  magError  magNst    status locationSource magSource  \n",
       "3179       1.875     0.062    25.0  reviewed             us        us  \n",
       "3485       4.305     0.048    42.0  reviewed             us        us  "
      ]
     },
     "execution_count": 11,
     "metadata": {},
     "output_type": "execute_result"
    }
   ],
   "source": [
    "df_copy[df_copy.mag == 7.1]"
    "dfEEUU.head(2)"
   ]
  },
  {
   "cell_type": "code",
   "execution_count": null,
   "metadata": {},
   "outputs": [
    {
     "data": {
      "text/plain": [
       "(12163, 22)"
      ]
     },
     "execution_count": 6,
     "metadata": {},
     "output_type": "execute_result"
    }
   ],
   "source": [
    "dfEEUU.shape"
   ]
  },
  {
   "attachments": {},
   "cell_type": "markdown",
   "metadata": {},
   "source": [
    "contamos con 12163 filas y 22 columnas"
   ]
  },
  {
   "cell_type": "code",
   "execution_count": null,
   "metadata": {},
   "outputs": [
    {
     "data": {
      "text/plain": [
       "array(['md', 'ml', 'mb', 'mww', 'mlr', 'mb_lg', 'mw', 'mwr', 'mlv', 'mh'],\n",
       "      dtype=object)"
      ]
     },
     "execution_count": 9,
     "metadata": {},
     "output_type": "execute_result"
    }
   ],
   "source": [
    "dfEEUU['magType'].unique()"
   ]
  },
  {
   "cell_type": "code",
   "execution_count": null,
   "metadata": {},
   "outputs": [
    {
     "data": {
      "text/plain": [
       "Index(['time', 'latitude', 'longitude', 'depth', 'mag', 'magType', 'nst',\n",
       "       'gap', 'dmin', 'rms', 'net', 'id', 'updated', 'place', 'type',\n",
       "       'horizontalError', 'depthError', 'magError', 'magNst', 'status',\n",
       "       'locationSource', 'magSource'],\n",
       "      dtype='object')"
      ]
     },
     "execution_count": 7,
     "metadata": {},
     "output_type": "execute_result"
    }
   ],
   "source": [
    "dfEEUU.columns"
   ]
  },
  {
   "attachments": {},
   "cell_type": "markdown",
   "metadata": {},
   "source": [
    "Significado de sus columnas:\n",
    "\n",
    "1-\"time\": indica la fecha y hora exacta en que ocurrió el sismo, expresada en formato UTC (Tiempo Universal Coordinado) y en milisegundos desde la medianoche del 1 de enero de 1970.\n",
    "\n",
    "2-\"latitude\": es la coordenada geográfica de la latitud del epicentro del sismo, expresada en grados decimales.\n",
    "\n",
    "3-\"longitude\": es la coordenada geográfica de la longitud del epicentro del sismo, expresada en grados decimales.\n",
    "\n",
    "4-\"depth\": es la profundidad del epicentro del sismo, expresada en kilómetros.\n",
    "\n",
    "5-\"mag\": es la magnitud del sismo, que mide la energía liberada en el evento. La escala más comúnmente utilizada para medir la magnitud es la escala de Richter.\n",
    "\n",
    "6-\"magType\": indica la escala o método utilizado para calcular la magnitud del sismo, como por ejemplo, la escala de Richter, la escala de magnitud de momento o la escala de magnitud de onda superficial. Los sinificados de sus valores son los siguientes:\n",
    "\n",
    "\"md\": se refiere a la magnitud calculada usando la escala de duración, que es una escala de magnitud basada en la duración de la onda sísmica.\n",
    "\n",
    "\"ml\": se refiere a la magnitud calculada usando la escala de Richter, que es una escala de magnitud que se basa en la amplitud de las ondas sísmicas registradas en un sismógrafo.\n",
    "\n",
    "\"mb\": se refiere a la magnitud calculada usando la escala de onda de cuerpo superficial, que se basa en la amplitud de las ondas sísmicas de cuerpo y superficie.\n",
    "\n",
    "\"mww\": se refiere a la magnitud calculada usando la escala de momento sísmico, que es una escala de magnitud basada en la cantidad total de energía liberada durante el sismo.\n",
    "\n",
    "\"mlr\": se refiere a la magnitud calculada usando la escala de Richter revisada, que es una versión actualizada y mejorada de la escala de Richter original.\n",
    "\n",
    "\"mb_lg\": se refiere a la magnitud calculada usando una combinación de las escalas de onda de cuerpo y superficie (mb) y la escala de Richter (lg).\n",
    "\n",
    "\"mw\": se refiere a la magnitud calculada usando la escala de momento sísmico, pero ajustada para tener en cuenta la atenuación de la energía sísmica en el camino desde el epicentro hasta la superficie.\n",
    "\n",
    "\"mwr\": se refiere a la magnitud calculada usando una versión modificada de la escala de momento sísmico que tiene en cuenta la orientación de las fallas geológicas.\n",
    "\n",
    "\"mlv\": se refiere a la magnitud calculada usando la escala de Richter local, que es una versión adaptada de la escala de Richter para sismos locales.\n",
    "\n",
    "\"mh\": se refiere a la magnitud calculada usando la escala de hipocentro, que es una escala de magnitud que tiene en cuenta la profundidad y ubicación del hipocentro del sismo.\n",
    "\n",
    "\n",
    "7-\"nst\": se refiere al número de estaciones sismográficas que registraron el evento.\n",
    "\n",
    "8-\"gap\":el ángulo de brecha indica la cantidad de información que falta para calcular la ubicación exacta y la magnitud del sismo, debido a que la red de estaciones sismográficas no tiene una cobertura completa del área afectada por el evento sísmico.\n",
    "\n",
    "9-\"dimn\": es la dimensión del evento en kilómetros.\n",
    "\n",
    "10-\"rms\": es el error de tiempo de la solución de ubicación del sismo en segundos.\n",
    "\n",
    "11-\"net\": es el código de identificación de la red sísmica que registró el evento. Por ejemplo, la red sísmica de Estados Unidos es la USGS (United States Geological Survey) y su código es \"us\".\n",
    "\n",
    "12-\"id\": es el código de identificación único del sismo, que incluye el código de la red sísmica y un número de identificación único. Este código se utiliza para identificar y hacer referencia a un evento sísmico específico.\n",
    "\n",
    "13-\"updated\": es la fecha y hora en que se actualizó la información sobre el evento sísmico en la base de datos. Esta información puede actualizarse a medida que se recopilan más datos sobre el sismo.\n",
    "\n",
    "14-\"place\": es la ubicación geográfica del sismo, que generalmente se expresa en términos de la ciudad o el estado más cercano al epicentro.\n",
    "\n",
    "15-\"type\": se refiere al tipo de evento sísmico registrado, que puede ser un sismo, una réplica o una explosión.\n",
    "\n",
    "16-\"horizontalError\": es el error horizontal asociado con la ubicación del epicentro del sismo, expresado en kilómetros. Este valor indica la incertidumbre en la ubicación horizontal del epicentro.\n",
    "\n",
    "17-\"depthError\": es el error asociado con la profundidad del epicentro del sismo, expresado en kilómetros. Este valor indica la incertidumbre en la profundidad del epicentro.\n",
    "\n",
    "18-\"magError\": es el error asociado con la magnitud del sismo, expresado en unidades de magnitud (por ejemplo, en unidades de Richter). Este valor indica la incertidumbre en la magnitud del sismo.\n",
    "\n",
    "19-\"magNst\": es el número de estaciones sísmicas que se utilizaron para calcular la magnitud del sismo.\n",
    "\n",
    "20-\"status\": indica si la información sobre el sismo es \"automática\" o \"revisada\", es decir, si ha sido revisada por un sismólogo para corregir o ajustar los valores originales de la información sísmica.\n",
    "\n",
    "21-\"locationSource\": es el código de identificación de la fuente de los datos de ubicación del sismo, que puede ser una red sísmica específica o una base de datos geográfica.\n",
    "\n",
    "22-\"magSource\": es el código de identificación de la fuente de los datos de magnitud del sismo, que puede ser una red sísmica específica o una base de datos de magnitud."
   ]
  },
  {
   "cell_type": "code",
   "execution_count": null,
   "metadata": {},
   "outputs": [
    {
     "name": "stdout",
     "output_type": "stream",
     "text": [
      "<class 'pandas.core.frame.DataFrame'>\n",
      "RangeIndex: 12163 entries, 0 to 12162\n",
      "Data columns (total 22 columns):\n",
      " #   Column           Non-Null Count  Dtype  \n",
      "---  ------           --------------  -----  \n",
      " 0   time             12163 non-null  object \n",
      " 1   latitude         12163 non-null  float64\n",
      " 2   longitude        12163 non-null  float64\n",
      " 3   depth            12163 non-null  float64\n",
      " 4   mag              12163 non-null  float64\n",
      " 5   magType          12163 non-null  object \n",
      " 6   nst              8771 non-null   float64\n",
      " 7   gap              8771 non-null   float64\n",
      " 8   dmin             6525 non-null   float64\n",
      " 9   rms              12163 non-null  float64\n",
      " 10  net              12163 non-null  object \n",
      " 11  id               12163 non-null  object \n",
      " 12  updated          12163 non-null  object \n",
      " 13  place            11829 non-null  object \n",
      " 14  type             12163 non-null  object \n",
      " 15  horizontalError  8067 non-null   float64\n",
      " 16  depthError       12163 non-null  float64\n",
      " 17  magError         8744 non-null   float64\n",
      " 18  magNst           8766 non-null   float64\n",
      " 19  status           12163 non-null  object \n",
      " 20  locationSource   12163 non-null  object \n",
      " 21  magSource        12163 non-null  object \n",
      "dtypes: float64(12), object(10)\n",
      "memory usage: 2.0+ MB\n"
     ]
    }
   ],
   "source": [
    "dfEEUU.info()"
   ]
  },
  {
   "attachments": {},
   "cell_type": "markdown",
   "metadata": {},
   "source": [
    "Las columnas que tienen faltantes significativos son:\n",
    " dmin, o sea la de dimnensión en km, gap: información que falta para calcular ubicación exacta, nst:estaciones que registraron el sismo,horizontalError: incertidumbre en localización del hepicentro,magerror: incertidumbre en magnitud del sismo,magNst: número de estaciones que se registraron el sismo."
   ]
  },
  {
   "cell_type": "code",
   "execution_count": null,
   "metadata": {},
   "outputs": [
    {
     "data": {
      "text/html": [
       "<div>\n",
       "<style scoped>\n",
       "    .dataframe tbody tr th:only-of-type {\n",
       "        vertical-align: middle;\n",
       "    }\n",
       "\n",
       "    .dataframe tbody tr th {\n",
       "        vertical-align: top;\n",
       "    }\n",
       "\n",
       "    .dataframe thead th {\n",
       "        text-align: right;\n",
       "    }\n",
       "</style>\n",
       "<table border=\"1\" class=\"dataframe\">\n",
       "  <thead>\n",
       "    <tr style=\"text-align: right;\">\n",
       "      <th></th>\n",
       "      <th>time</th>\n",
       "      <th>magType</th>\n",
       "      <th>net</th>\n",
       "      <th>id</th>\n",
       "      <th>updated</th>\n",
       "      <th>place</th>\n",
       "      <th>type</th>\n",
       "      <th>status</th>\n",
       "      <th>locationSource</th>\n",
       "      <th>magSource</th>\n",
       "    </tr>\n",
       "  </thead>\n",
       "  <tbody>\n",
       "    <tr>\n",
       "      <th>count</th>\n",
       "      <td>12163</td>\n",
       "      <td>12163</td>\n",
       "      <td>12163</td>\n",
       "      <td>12163</td>\n",
       "      <td>12163</td>\n",
       "      <td>11829</td>\n",
       "      <td>12163</td>\n",
       "      <td>12163</td>\n",
       "      <td>12163</td>\n",
       "      <td>12163</td>\n",
       "    </tr>\n",
       "    <tr>\n",
       "      <th>unique</th>\n",
       "      <td>12162</td>\n",
       "      <td>10</td>\n",
       "      <td>15</td>\n",
       "      <td>12163</td>\n",
       "      <td>12163</td>\n",
       "      <td>5975</td>\n",
       "      <td>6</td>\n",
       "      <td>2</td>\n",
       "      <td>15</td>\n",
       "      <td>16</td>\n",
       "    </tr>\n",
       "    <tr>\n",
       "      <th>top</th>\n",
       "      <td>2023-04-20T04:01:05.350Z</td>\n",
       "      <td>ml</td>\n",
       "      <td>ak</td>\n",
       "      <td>ak0235p97547</td>\n",
       "      <td>2023-05-04T11:03:40.006Z</td>\n",
       "      <td>7km NW of The Geysers, CA</td>\n",
       "      <td>earthquake</td>\n",
       "      <td>reviewed</td>\n",
       "      <td>ak</td>\n",
       "      <td>ak</td>\n",
       "    </tr>\n",
       "    <tr>\n",
       "      <th>freq</th>\n",
       "      <td>2</td>\n",
       "      <td>8084</td>\n",
       "      <td>3392</td>\n",
       "      <td>1</td>\n",
       "      <td>1</td>\n",
       "      <td>158</td>\n",
       "      <td>11905</td>\n",
       "      <td>10438</td>\n",
       "      <td>3392</td>\n",
       "      <td>3393</td>\n",
       "    </tr>\n",
       "  </tbody>\n",
       "</table>\n",
       "</div>"
      ],
      "text/plain": [
       "                            time magType    net            id  \\\n",
       "count                      12163   12163  12163         12163   \n",
       "unique                     12162      10     15         12163   \n",
       "top     2023-04-20T04:01:05.350Z      ml     ak  ak0235p97547   \n",
       "freq                           2    8084   3392             1   \n",
       "\n",
       "                         updated                      place        type  \\\n",
       "count                      12163                      11829       12163   \n",
       "unique                     12163                       5975           6   \n",
       "top     2023-05-04T11:03:40.006Z  7km NW of The Geysers, CA  earthquake   \n",
       "freq                           1                        158       11905   \n",
       "\n",
       "          status locationSource magSource  \n",
       "count      12163          12163     12163  \n",
       "unique         2             15        16  \n",
       "top     reviewed             ak        ak  \n",
       "freq       10438           3392      3393  "
      ]
     },
     "execution_count": 8,
     "metadata": {},
     "output_type": "execute_result"
    }
   ],
   "source": [
    "dfEEUU.describe(exclude='number')"
   ]
  },
  {
   "attachments": {},
   "cell_type": "markdown",
   "metadata": {},
   "source": [
    "el ultimo gran sismo 20 de abril 2023, medido en escala de richter, se registro en alaska a 7 kilómetros al noroeste de The Geysers, California.El evento ha sido revisado y confirmado por un sismólogo o un experto en la materia.\"ak\" es la agencia responsable de la detección y registro del evento."
   ]
  },
  {
   "cell_type": "code",
   "execution_count": 6,
   "metadata": {},
   "outputs": [],
   "source": [
    "#aca convierto columna time a datetime para posterior utilizacion\n",
    "\n",
    "dfEEUU['time'] = pd.to_datetime(dfEEUU['time'])\n"
   ]
  },
  {
   "cell_type": "code",
   "execution_count": 7,
   "metadata": {},
   "outputs": [],
   "source": [
    "import numpy as np"
   ]
  },
  {
   "cell_type": "code",
   "execution_count": 8,
   "metadata": {},
   "outputs": [
    {
     "name": "stderr",
     "output_type": "stream",
     "text": [
      "C:\\Users\\alumno\\AppData\\Local\\Temp\\ipykernel_7844\\174725188.py:11: FutureWarning: The default value of numeric_only in DataFrame.corr is deprecated. In a future version, it will default to False. Select only valid columns or specify the value of numeric_only to silence this warning.\n",
      "  corr = dfEEUU[cols].corr()\n",
      "C:\\Users\\alumno\\AppData\\Local\\Temp\\ipykernel_7844\\174725188.py:15: DeprecationWarning: `np.bool` is a deprecated alias for the builtin `bool`. To silence this warning, use `bool` by itself. Doing this will not modify any behavior and is safe. If you specifically wanted the numpy scalar type, use `np.bool_` here.\n",
      "Deprecated in NumPy 1.20; for more details and guidance: https://numpy.org/devdocs/release/1.20.0-notes.html#deprecations\n",
      "  mask = np.triu(np.ones_like(corr, dtype=np.bool))\n"
     ]
    },
    {
     "data": {
      "image/png": "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",
      "text/plain": [
       "<Figure size 720x576 with 2 Axes>"
      ]
     },
     "metadata": {
      "needs_background": "light"
     },
     "output_type": "display_data"
    }
   ],
   "source": [
    "#grafico para ver la relación entre las variable\n",
    "import seaborn as sns\n",
    "\n",
    "\n",
    "\n",
    "# Seleccionar las columnas a incluir en la matriz de correlación\n",
    "cols = ['time', 'latitude', 'longitude', 'depth', 'mag', 'nst', 'gap', \n",
    "        'dmin', 'rms', 'horizontalError', 'depthError', 'magError', 'magNst']\n",
    "\n",
    "# Crear la matriz de correlación\n",
    "corr = dfEEUU[cols].corr()\n",
    "\n",
    "# Crear el gráfico de correlación utilizando la biblioteca Seaborn\n",
    "sns.set(style=\"white\")\n",
    "mask = np.triu(np.ones_like(corr, dtype=np.bool))\n",
    "fig, ax = plt.subplots(figsize=(10, 8))\n",
    "cmap = sns.diverging_palette(220, 10, as_cmap=True)\n",
    "sns.heatmap(corr, mask=mask, cmap=cmap, vmax=.3, center=0,\n",
    "            square=True, linewidths=.5, cbar_kws={\"shrink\": .5})\n",
    "plt.title('Matriz de correlación de los datos de sismos en EE. UU.')\n",
    "plt.show()\n"
   ]
  },
  {
   "cell_type": "code",
   "execution_count": 9,
   "metadata": {},
   "outputs": [
    {
     "data": {
      "image/png": "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",
      "text/plain": [
       "<Figure size 432x288 with 1 Axes>"
      ]
     },
     "metadata": {
      "needs_background": "light"
     },
     "output_type": "display_data"
    },
    {
     "data": {
      "image/png": "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",
      "text/plain": [
       "<Figure size 432x288 with 1 Axes>"
      ]
     },
     "metadata": {
      "needs_background": "light"
     },
     "output_type": "display_data"
    },
    {
     "data": {
      "image/png": "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",
      "text/plain": [
       "<Figure size 432x288 with 1 Axes>"
      ]
     },
     "metadata": {
      "needs_background": "light"
     },
     "output_type": "display_data"
    },
    {
     "data": {
      "image/png": "iVBORw0KGgoAAAANSUhEUgAAAV0AAAEXCAYAAAAOS5e9AAAAOXRFWHRTb2Z0d2FyZQBNYXRwbG90bGliIHZlcnNpb24zLjcuMSwgaHR0cHM6Ly9tYXRwbG90bGliLm9yZy/bCgiHAAAACXBIWXMAAAsTAAALEwEAmpwYAAAUmUlEQVR4nO3df5xddX3n8ddkJuaHtpi0FiIhQoB8MClKVSC0UiMJWFGytLowlSJ5rIDAuu0GYkMElYeiCMRmbRdQtA+VVhtsZNlNqWJ+yEoVBSqxkNgPJYkJYNLSJtpKQsgMs3+cO7MzNzOTCZn53hvm9Xw85jHn3HPO93zunXve53u/99w7LV1dXUiSyhjT6AIkaTQxdCWpIENXkgoydCWpIENXkgoydCWpoLZGF6B9RcTRwEbg0dpNY4C9wGcy847aOh8DnuieP1RFxJuAFZl59Ajv5wvA8sxcPZL7kfbH0G1euzPzpO6ZiHgNsCYins3Mr2fmRxpX2qEnMy9udA0SGLqHjMzcEhEfAT4IfD0ivgQ8lplLI+K/AO8HXgZMBj6VmbdFRCtwMzAf+DnwA2BmZs6JiPuAHcAJwG3AQ8BNwDhgCrAqM99X63Wvrf2cBowFFtX2dwLwMPD7mflCRHwIOBcYD7wcWJSZ/6v+vkTE5cDCWk2P1i27BngXVe/+J8AVmfnTftpYAlwEdAD/BCyoTd8GzKg9Dv8BvCczs3Z//2dmrhhKnbX7/X+B+4DXAy3ABzLz/og4HPgccDhwBLAFOC8z/yUiflJ7nF8HfIjqFcqHan+bXwO+nJkf7uf+/AT4KvAO4FeAjwK/Bbyx1sb8zPxpRLxzoPYi4mrgfbX7/R3g3JF+BaED55juoeVHwIm9b4iIVwCXAGdn5m8A51OFJ8DFVAftr1MF5rF17e3MzJmZ+WfAHwEfycxTgZnA/Ih4Y229Y4D/k5mzgDXAZ4DfB2YBpwOzaz3xecBbMvN1wDXAx+rvQEScBFwH/HZmngw832vZe2v375RaL/9vgS/008Z8qpA9LTN/HdgMfAB4O/CzzJydmTOoTiQfqNt2SHXWTAPurdVyNXBnRIwF2oEHMvM0YDqwC7iw13aPZeZrgbuBq4CLMvNNwGxgSUT86gD7G5+Zr69tczvVcNLrgSeBBRHRMlB7EfG22mNyMtXf/JcG2IcazJ7uoaWL6gDvkZm/qPV+3hERxwMnAa+oLT4buCMznwOIiM8Bf9hr8/t7TV8EnF3rBZ4ATKy1829UPa2VtfU2At/LzH+vtflTYHJmfi8iLgIuiIjjqALhFexrLvCtzNxem78d+J3a9DuBU4CHIwKgtVZHvXnAX2fmztpjcGX3gojYFBH/DTgOmAM8UPd4bRlinVCdlL5a2+4bEdEJvC4zPxMRp0fElcDxVCe1H/Ta7v7aNl0RcQ7wzoh4D/Baqh7zy4F/7Wd/X6/93ghsz8wf9ZqfvJ/2zq49Jj+rPQ63UD3WajL2dA8tJ7Pvy/GpwDrgNcDfAdf2WtxBdVB266xr7xe9pu+nOnD/karn91SvbZ/PzN5f0rG3vrCIeAPwPeCXgW8BN9btu1tX3e0dvaZbgRsz86Ra7/JNVC+x63XU2une9ysj4ujasMWfU52Yvgr8VX0NB1BnfW1QHS+dEXEj1WP0DNVJ41t1bfyitq+XA48AbwB+SDU0tHeQ/e3pNd3fYzxYe/v7W6tJGLqHiIiYAXwY+HTdojdRHfzXZ+a9VL1FauO59wB/EBHjIqKN6uXnPt9wFBGTau0szsy7gCOpeoqtB1DibwMPZ+afUI2FnjvA9quAs2onC2o1dbsXuDgifrk2/zHgL/ppYzXwe73Wuw64Engb8KXM/HMggXP6qWGodQK8KiJ+B6DWw9xLddJ7G/A/MvMvgH8BzhygjeOpwv3azFwJvIVqzPxAHtehtncP8K6IOKy27vvo52+txjN0m9eEiFhX+/kh8CVgSWbeU7fet6h6pRkRj1CNQz5DFZpfonrZ+whV7+556oYnAGov028AfhgRDwNLgO/W2hiqvwJ+NSI2AH9P1dubHBF9xhYz81Hgj6muxHiY6s2sbl8A/gb4fkSsp3ozakE/9f4t8EXguxHxKNWbWdcAS4H3R8Q6qrHnH/ZzH4ZUZ81zwIUR8aNa++dmZifVyWBpRPw9cBfVK4z+Hqt/qN2ff6z9DecDGwZYdygGbC8z1wKfBx6oPa6H0c/fWo3X4lc7vnRFxFnAr2XmX9bmPwM8l5mLG1tZebWQuiYzvzHE9Y+mekNsoPHeplK73vk3M/NPa/NXAqdm5vmNrUz1fCPtpW098MGI+CDV3/pHwOWNLams2rDKj6kuT/tug8sZSY8DiyPiUqphha3ApY0tSf2xpytJBTmmK0kFGbqSVNCAY7oRMY7qutBteM2fJA1VK9VH6R/KzD31Cwd7I+1k+n5iSZI0dKdTXU7Yx2Chuw3gK1/5CkccccRIFSVJLynbt2/nggsugFqG1hssdDsBjjjiCKZOnTrIapKkfvQ7LOsbaZJUkKErSQUZupJUkKErSQUZupJUkKErSQUZupJUkKErSQUZupJUkKErSQUZupJUkKErSQUZupJUkKErSQUZupJUkKErSQUZupJUkKErSQUN9u96VNjnP/95Nm3adNDt7Ny5E4BJkyYddFv1pk+fziWXXDLs7UqjhaHbRDZt2sRjG5LW8a88qHY6n/sZANt3Pn/wRfXTrqQXz9BtMq3jX8nE18w9qDZ2bVkDcNDtDNSupBfPMV1JKsjQlaSCDF1JKsjQlaSCDF1JKsjQlaSCDF1JKsjQlaSCDF1JKsjQlaSCDF1JKsjQlaSCDF1JKsjQlaSCDF1JKsjQlaSCDF1JKsjQlaSCDF1JKsjQlaSCDF1JKsjQlaSCDF1JKsjQlaSCDF1JKsjQlaSCDF1JKsjQlaSCDF1JKsjQlaSCDF1JKsjQlaSCDF1JKsjQlaSCDF1JKsjQlaSCDF1JKsjQlaSCDF1JKsjQlaSCmjp0165dy9q1axtdhkYpn38aCW2NLmAwq1atAuCMM85ocCUajXz+aSQ0dU9Xkl5qDF1JKsjQlaSCDF1JKsjQlaSCDF1JKsjQlaSCDF1JKsjQlaSCDF1JKsjQlaSCDF1JKsjQlaSCDF1JKsjQlaSCDF1JKsjQlaSCDF1JKsjQlaSCDF1JKsjQlaSCDF1JKsjQlaSCDF1JKsjQlaSCDF1JKsjQlaSCDF1JKsjQlaSCDF1JKsjQlaSCDF1JKsjQlaSCDF1JKsjQlaSCDF1JKsjQlaSCDF1JKsjQlaSC2kai0R07dvCJT3yCzs5O2tramD9/PkuXLqWrq4spU6YwduxYnnnmGW688UYefvhh7rjjjkHb27x5M8ccc8xIlCoN6oknnuCcc84BoK2tjY6ODgAmTJjAggULuO2222hra6O1tZWWlhaee+65fdqYNWsW69ev75kfP358v+sBzJgxg8cff7zfZStXruyppb/5wdYdO3Yse/fuZezYsdx1112ce+65dHZ20trayt13381ll13G008/zdSpUznssMNYv349J554Ip/85Cf5+Mc/zoMPPsjs2bN54YUXeqavueYavvOd73DzzTezePFiNm7cyIoVKzjvvPO48MIL+yx785vf3Gf+1a9+NUuWLOFTn/rUPsf2pk2b+iyrnx/Mjh07uOmmm1i8eDFdXV0905MmTRrydpMmTTqgfR6oEenpLl++nMcff5yNGzeSmSxbtoyuri4Atm3bxtatW9m9ezdLly7db+ACLF26dCTKlPardzh2By7A7t27+exnP9tz+549ewYM0g0bNgzYZr2BAvdg7d27t8/vzs7OPr+ffvppAJ566qmeE8Sjjz4KwIMPPgjA97///T7TAMuWLQPg05/+NCtWrADga1/72j7L6ueXLl3Krl27+j2265cNtm695cuXs2HDBpYvX95n+kC2O9B9HqhhD90dO3awevXqPrf1frL2tnXr1iG1uXXrVjZv3nzQtUkH4oknnhh0eXdHYn+Gut7+1PdqB+rlHuiywdY9//zzB1y2cOHCnmO7/hi//vrr+yy7/fbb+8w/+eSTwL7H9qZNm/osu//++wdct96OHTtYs2YNXV1drFq1itWrV9PV1cXq1avZuXPnkLZbvXo169atG/I+X4yWgZ4QEXE0sHnNmjVMnTp1yA3eeuutfPOb3xy2J1q3cePGcfzxxw9rm81m06ZN7O5o5RXHvuOg2tm1ZQ0AE18zdzjK6vGLjfcwoa2T6dOnD2u7zeqxxx5rdAmjwrRp07jlllsAuOKKK3oCD/oO6dSvW+/WW29l1apVdHR00NLSAlQnvLa2Ns466ywuv/zy/W7X1tbGuHHjePbZZ4e0z/489dRTzJ07F+CYzPxJ/fJh7+ned999wx64AHv27Bn2NiU1Xu9XvL0DF/btQQ/26vi+++7rWb+rq6snhzo6Ovj2t789pO06Ojr6BO7+9vliDPsbaXPmzBmRnu60adO44YYbhrXNZrNkyRJ+vOmfG13GgMa0jWf69MNf8n+HboO97NbwmTZtWs/0UUcdtd+e7kDmzJkzYE/3rW9965C2G6inO5yGvafb3t5OW9vwXxSxaNGiYW9TGsz48eMbXULDTZw4ccBlxx133IDLTj311D7zg53Aeh/b9cf5lVdeOeC69drb2xkzpoq0tra2nhwaM2YM7e3tQ9puzJgxXH311UPe54sx7KE7efJk5s2b1+e2gUJ4qGeQadOmecmYihssVICe3tT+DHW9/Vm5cuWg8y922WDr3nnnnQMuW7ZsWc+xXX+MX3vttX2WXXrppX3mjzrqKGDfY3v69Ol9lp1++ukDrltv8uTJzJ07l5aWFs4880zmzZtHS0sL8+bNG/SSsd7bzZs3j5NOOmnI+3wxRuSSsfb2dmbMmMGxxx5LRLBw4cKeJ96UKVOYNm0aEyZMYNGiRbz3ve/db3v2ctUovXu7vYNlwoQJXHbZZT23jxs3bsCe8cyZMwdss96MGTMOptwBjR07ts/v1tbWPr+PPPJIAKZOncqsWbMAOPHEEwE45ZRTAJg9e3afaaiuYAC46qqrePe73w3Aeeedt8+y+vlFixYxceLEfo/t+mWDrVuvvb2dmTNn0t7e3mf6QLY70H0eqGG/emE4LVmyBGDUjCF2j+ke7FUHI3X1wq4ta3jtKBrTHW3PPw2P4lcvSJIGZuhKUkGGriQVZOhKUkGGriQVZOhKUkGGriQVZOhKUkGGriQVZOhKUkGGriQVZOhKUkGGriQVZOhKUkGGriQVZOhKUkGGriQVZOhKUkGGriQVZOhKUkGGriQVZOhKUkGGriQVZOhKUkGGriQVZOhKUkGGriQVZOhKUkGGriQVZOhKUkGGriQVZOhKUkGGriQVZOhKUkGGriQVZOhKUkGGriQV1NboAgZz5plnNroEjWI+/zQSmjp0zzjjjEaXoFHM559GgsMLklSQoStJBRm6klSQoStJBRm6klSQoStJBRm6klSQoStJBRm6klSQoStJBRm6klSQoStJBRm6klSQoStJBRm6klSQoStJBRm6klSQoStJBRm6klSQoStJBRm6klSQoStJBRm6klSQoStJBRm6klSQoStJBRm6klSQoStJBRm6klSQoStJBRm6klSQoStJBRm6klSQoStJBRm6klSQoStJBRm6klSQoStJBRm6klSQoStJBRm6klRQW6MLUF+dz/2MXVvWHHQbwEG303+7hw9rm9JoY+g2kenTpw9LOzt3vgyASZMmDUt7/9/hw1ajNFoZuk3kkksuaXQJkkaYY7qSVJChK0kFGbqSVJChK0kFGbqSVJChK0kFGbqSVJChK0kFGbqSVJChK0kFGbqSVJChK0kFGbqSVJChK0kFGbqSVJChK0kFGbqSVJChK0kFDfbveloBtm/fXqgUSTr09crM1v6WDxa6UwAuuOCCYS5JkkaFKcDG+hsHC92HgNOBbUDnCBUlSS81rVSB+1B/C1u6urrKliNJo5hvpElSQYauJBVk6EpSQYauJBVk6EpSQYauJBVk6EpSQYN9OGJUi4j3ANcCLwOWZeYtDS6pqUTER4HzarP3ZOYfN7KeZhQRNwOvyswFja6l2UTEOcB1wMuBezPzjxpbUTn2dPsREUcCnwDeDLweuDQiZja2quYREfOAs4DfAE4C3hgRv9vQoppMRMwFFjS6jmYUEdOBzwL/CTgReENEvL2xVZVj6PZvHrA2M3dk5rPACuDdDa6pmWwDrsrM5zNzL/BjYFqDa2oaETGZ6qT9yUbX0qR+F7gzM5+qPX/OB37Q4JqKcXihf6+mCpZu24BTGlRL08nM9d3TEXE81UHzm42rqOl8DrgGOKrRhTSp44DnI+Je4AhgJfDhxpZUjj3d/rX0c9sLxatochExC1gFLMrMf2p0Pc0gIi4GnszMNY2upYm1Ub2a/ANgNlWH5qKGVlSQodu/p6nOwN2mAD9tUC1NKSJ+C1gDXJ2ZX250PU3kfOCsiFgHfAyYHxHLGltS09kOrM7MZzJzN3A3o+iVpMML/VsNXBcRrwKeBd4FXNrYkppHRBxFdaCcn5lrG1xOU8nMM7unI2IBMCczFzauoqb0N8CXI+KVwH8Ab6d6Po0K9nT7kZlPU43JfRtYB3w1Mx9saFHNZREwHviTiFhX+7ms0UXp0JCZPwBuAv4O2ABsAb7Y0KIK8vt0Jakge7qSVJChK0kFGbqSVJChK0kFGbqSVJChK0kFGbqSVJCfSFNTiYg5wA1UH7ueBewCPgr8IRDA14GrgGVUn9v/Jarvyrg4M79b+xThF4FjgX+j+sjpY5l5XdE7Ig3Anq6a0cnA9Zl5AvDPwBLgHcAbgP8KnEb1TXCnZeZM4MvA1bVt/xRYn5mvBf4zfvuZmow9XTWjzZn5SG16I/DzzHwe+NeI+Hfg51T/1eP9EXEsMIfqM/wAZ1OFM5m5LSJWFK1c2g97umpGe+rm99bNzwXuqU3/b6r/QtD9dZwd9P1qzs5hr046CIauDkXnACsz8zbgIeBcoLW27B7gfQAR8StU/6XALxhR0zB0dSj678BbIuIfgAeohiCOiYgxwELghIh4lOpNty1Ub8ZJTcFvGdNLSkRcATySmQ9ExDjgfuCjmfmNBpcmAb6RppeeDcCfRUQr8DLgrw1cNRN7upJUkGO6klSQoStJBRm6klSQoStJBRm6klSQoStJBf0/fVZOIDi2m0IAAAAASUVORK5CYII=",
      "text/plain": [
       "<Figure size 432x288 with 1 Axes>"
      ]
     },
     "metadata": {
      "needs_background": "light"
     },
     "output_type": "display_data"
    },
    {
     "data": {
      "image/png": "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",
      "text/plain": [
       "<Figure size 432x288 with 1 Axes>"
      ]
     },
     "metadata": {
      "needs_background": "light"
     },
     "output_type": "display_data"
    },
    {
     "data": {
      "image/png": "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",
      "text/plain": [
       "<Figure size 432x288 with 1 Axes>"
      ]
     },
     "metadata": {
      "needs_background": "light"
     },
     "output_type": "display_data"
    },
    {
     "data": {
      "image/png": "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",
      "text/plain": [
       "<Figure size 432x288 with 1 Axes>"
      ]
     },
     "metadata": {
      "needs_background": "light"
     },
     "output_type": "display_data"
    },
    {
     "data": {
      "image/png": "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",
      "text/plain": [
       "<Figure size 432x288 with 1 Axes>"
      ]
     },
     "metadata": {
      "needs_background": "light"
     },
     "output_type": "display_data"
    },
    {
     "data": {
      "image/png": "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",
      "text/plain": [
       "<Figure size 432x288 with 1 Axes>"
      ]
     },
     "metadata": {
      "needs_background": "light"
     },
     "output_type": "display_data"
    },
    {
     "data": {
      "image/png": "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",
      "text/plain": [
       "<Figure size 432x288 with 1 Axes>"
      ]
     },
     "metadata": {
      "needs_background": "light"
     },
     "output_type": "display_data"
    },
    {
     "data": {
      "image/png": "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",
      "text/plain": [
       "<Figure size 432x288 with 1 Axes>"
      ]
     },
     "metadata": {
      "needs_background": "light"
     },
     "output_type": "display_data"
    },
    {
     "data": {
      "image/png": "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",
      "text/plain": [
       "<Figure size 432x288 with 1 Axes>"
      ]
     },
     "metadata": {
      "needs_background": "light"
     },
     "output_type": "display_data"
    }
   ],
   "source": [
    "#aca se genera un diagrama de caja para ver los outlier\n",
    "\n",
    "\n",
    "# Seleccionar las columnas a incluir en el diagrama de caja\n",
    "cols = ['latitude', 'longitude', 'depth', 'mag', 'nst', 'gap', \n",
    "        'dmin', 'rms', 'horizontalError', 'depthError', 'magError', 'magNst']\n",
    "\n",
    "# Crear un diagrama de caja para cada columna utilizando la biblioteca Seaborn\n",
    "for col in cols:\n",
    "    plt.figure()\n",
    "    sns.boxplot(x=dfEEUU[col])\n",
    "    plt.title('Diagrama de caja para ' + col)\n",
    "    plt.show()\n"
   ]
  },
  {
   "cell_type": "markdown",
   "metadata": {},
   "source": []
  }
 ],
 "metadata": {
  "kernelspec": {
   "display_name": "Python 3 (ipykernel)",
   "language": "python",
   "name": "python3"
  },
  "language_info": {
   "codemirror_mode": {
    "name": "ipython",
    "version": 3
   },
   "file_extension": ".py",
   "mimetype": "text/x-python",
   "name": "python",
   "nbconvert_exporter": "python",
   "pygments_lexer": "ipython3",
   "version": "3.10.6"
<<<<<<< HEAD
=======
  }
   "version": "3.11.1"
>>>>>>> 95dc7827dd79481ea00d09c2d58fe231e06be973
  },
  "toc-autonumbering": false,
  "toc-showmarkdowntxt": false
 },
 "nbformat": 4,
 "nbformat_minor": 4
}
